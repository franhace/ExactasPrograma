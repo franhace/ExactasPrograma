{
 "cells": [
  {
   "cell_type": "code",
   "execution_count": 77,
   "metadata": {
    "pycharm": {
     "is_executing": true
    }
   },
   "outputs": [],
   "source": [
    "# indice es el del df original,\n",
    "# Arg = pbi.loc['Argenitna']\n",
    "# Arg.plot()\n",
    "# 1\n",
    "import pandas as pd\n",
    "import seaborn as sns\n",
    "import matplotlib.pyplot as plt\n",
    "pbi=pd.read_csv(\"http://bit.do/ep2020inv-pbi\",index_col=0)\n",
    "# pbi.plot()"
   ]
  },
  {
   "cell_type": "code",
   "execution_count": 11,
   "metadata": {
    "pycharm": {
     "is_executing": true
    }
   },
   "outputs": [
    {
     "name": "stdout",
     "output_type": "stream",
     "text": [
      "filas 193, columnas 241\n",
      "Index(['Afghanistan', 'Albania', 'Algeria', 'Andorra', 'Angola',\n",
      "       'Antigua and Barbuda', 'Argentina', 'Armenia', 'Australia', 'Austria',\n",
      "       ...\n",
      "       'United Kingdom', 'United States', 'Uruguay', 'Uzbekistan', 'Vanuatu',\n",
      "       'Venezuela', 'Vietnam', 'Yemen', 'Zambia', 'Zimbabwe'],\n",
      "      dtype='object', name='country', length=193) Index(['1800', '1801', '1802', '1803', '1804', '1805', '1806', '1807', '1808',\n",
      "       '1809',\n",
      "       ...\n",
      "       '2031', '2032', '2033', '2034', '2035', '2036', '2037', '2038', '2039',\n",
      "       '2040'],\n",
      "      dtype='object', length=241)\n"
     ]
    }
   ],
   "source": [
    "r, c = pbi.shape\n",
    "print(\"filas {}, columnas {}\".format(r,c))\n",
    "print(pbi.index,pbi.columns)"
   ]
  },
  {
   "cell_type": "code",
   "execution_count": 12,
   "metadata": {
    "pycharm": {
     "is_executing": true
    }
   },
   "outputs": [
    {
     "data": {
      "image/png": "[encoded data removed]",
      "text/plain": [
       "<Figure size 432x288 with 1 Axes>"
      ]
     },
     "metadata": {
      "needs_background": "light"
     },
     "output_type": "display_data"
    }
   ],
   "source": [
    "# 2\n",
    "arg = pbi.loc['Argentina','1900':'2018']\n",
    "ur = pbi.loc['Uruguay','1900':'2018']\n",
    "viet = pbi.loc['Vietnam','1900':'2018']\n",
    "arg1 = sns.lineplot(data=arg) # azul\n",
    "ur1 = sns.lineplot(data=ur) # naranja\n",
    "viet1 = sns.lineplot(data=viet) # verde"
   ]
  },
  {
   "cell_type": "code",
   "execution_count": 13,
   "metadata": {
    "pycharm": {
     "is_executing": true
    }
   },
   "outputs": [
    {
     "name": "stdout",
     "output_type": "stream",
     "text": [
      "filas 197, columnas 11\n",
      "Index(['Afghanistan', 'Albania', 'Algeria', 'Andorra', 'Angola',\n",
      "       'Antigua and Barbuda', 'Argentina', 'Armenia', 'Australia', 'Austria',\n",
      "       ...\n",
      "       'Uruguay', 'Uzbekistan', 'Vanuatu', 'Venezuela', 'Palestine', 'Vietnam',\n",
      "       'Yemen', 'Zambia', 'Zimbabwe', 'South Sudan'],\n",
      "      dtype='object', name='name', length=197) Index(['geo', 'four_regions', 'eight_regions', 'six_regions',\n",
      "       'members_oecd_g77', 'Latitude', 'Longitude', 'UN member since',\n",
      "       'World bank region', 'World bank, 4 income groups 2017',\n",
      "       'World bank, 3 income groups 2017'],\n",
      "      dtype='object')\n"
     ]
    }
   ],
   "source": [
    "# 3\n",
    "geo=pd.read_csv(\"http://bit.do/ep2020inv-geo\",index_col='name')\n",
    "r, c = geo.shape\n",
    "print(\"filas {}, columnas {}\".format(r,c))\n",
    "print(geo.index,geo.columns)"
   ]
  },
  {
   "cell_type": "code",
   "execution_count": 14,
   "metadata": {
    "pycharm": {
     "is_executing": true
    }
   },
   "outputs": [
    {
     "data": {
      "text/html": [
       "<div>\n",
       "<style scoped>\n",
       "    .dataframe tbody tr th:only-of-type {\n",
       "        vertical-align: middle;\n",
       "    }\n",
       "\n",
       "    .dataframe tbody tr th {\n",
       "        vertical-align: top;\n",
       "    }\n",
       "\n",
       "    .dataframe thead th {\n",
       "        text-align: right;\n",
       "    }\n",
       "</style>\n",
       "<table border=\"1\" class=\"dataframe\">\n",
       "  <thead>\n",
       "    <tr style=\"text-align: right;\">\n",
       "      <th></th>\n",
       "      <th>geo</th>\n",
       "      <th>eight_regions</th>\n",
       "      <th>six_regions</th>\n",
       "      <th>members_oecd_g77</th>\n",
       "      <th>Latitude</th>\n",
       "      <th>Longitude</th>\n",
       "      <th>UN member since</th>\n",
       "      <th>World bank region</th>\n",
       "      <th>World bank, 4 income groups 2017</th>\n",
       "      <th>World bank, 3 income groups 2017</th>\n",
       "    </tr>\n",
       "    <tr>\n",
       "      <th>four_regions</th>\n",
       "      <th></th>\n",
       "      <th></th>\n",
       "      <th></th>\n",
       "      <th></th>\n",
       "      <th></th>\n",
       "      <th></th>\n",
       "      <th></th>\n",
       "      <th></th>\n",
       "      <th></th>\n",
       "      <th></th>\n",
       "    </tr>\n",
       "  </thead>\n",
       "  <tbody>\n",
       "    <tr>\n",
       "      <th>africa</th>\n",
       "      <td>54</td>\n",
       "      <td>54</td>\n",
       "      <td>54</td>\n",
       "      <td>53</td>\n",
       "      <td>54</td>\n",
       "      <td>54</td>\n",
       "      <td>54</td>\n",
       "      <td>54</td>\n",
       "      <td>54</td>\n",
       "      <td>0</td>\n",
       "    </tr>\n",
       "    <tr>\n",
       "      <th>americas</th>\n",
       "      <td>35</td>\n",
       "      <td>35</td>\n",
       "      <td>35</td>\n",
       "      <td>35</td>\n",
       "      <td>35</td>\n",
       "      <td>35</td>\n",
       "      <td>35</td>\n",
       "      <td>35</td>\n",
       "      <td>35</td>\n",
       "      <td>0</td>\n",
       "    </tr>\n",
       "    <tr>\n",
       "      <th>asia</th>\n",
       "      <td>59</td>\n",
       "      <td>59</td>\n",
       "      <td>59</td>\n",
       "      <td>59</td>\n",
       "      <td>59</td>\n",
       "      <td>59</td>\n",
       "      <td>56</td>\n",
       "      <td>59</td>\n",
       "      <td>59</td>\n",
       "      <td>0</td>\n",
       "    </tr>\n",
       "    <tr>\n",
       "      <th>europe</th>\n",
       "      <td>49</td>\n",
       "      <td>49</td>\n",
       "      <td>49</td>\n",
       "      <td>49</td>\n",
       "      <td>49</td>\n",
       "      <td>49</td>\n",
       "      <td>48</td>\n",
       "      <td>48</td>\n",
       "      <td>48</td>\n",
       "      <td>0</td>\n",
       "    </tr>\n",
       "  </tbody>\n",
       "</table>\n",
       "</div>"
      ],
      "text/plain": [
       "              geo  eight_regions  six_regions  members_oecd_g77  Latitude  \\\n",
       "four_regions                                                                \n",
       "africa         54             54           54                53        54   \n",
       "americas       35             35           35                35        35   \n",
       "asia           59             59           59                59        59   \n",
       "europe         49             49           49                49        49   \n",
       "\n",
       "              Longitude  UN member since  World bank region  \\\n",
       "four_regions                                                  \n",
       "africa               54               54                 54   \n",
       "americas             35               35                 35   \n",
       "asia                 59               56                 59   \n",
       "europe               49               48                 48   \n",
       "\n",
       "              World bank, 4 income groups 2017  \\\n",
       "four_regions                                     \n",
       "africa                                      54   \n",
       "americas                                    35   \n",
       "asia                                        59   \n",
       "europe                                      48   \n",
       "\n",
       "              World bank, 3 income groups 2017  \n",
       "four_regions                                    \n",
       "africa                                       0  \n",
       "americas                                     0  \n",
       "asia                                         0  \n",
       "europe                                       0  "
      ]
     },
     "execution_count": 14,
     "metadata": {},
     "output_type": "execute_result"
    }
   ],
   "source": [
    "# 4\n",
    "geo.groupby('four_regions').count()"
   ]
  },
  {
   "cell_type": "code",
   "execution_count": 15,
   "metadata": {
    "pycharm": {
     "is_executing": true
    }
   },
   "outputs": [
    {
     "name": "stdout",
     "output_type": "stream",
     "text": [
      "Holy See\n",
      "Hong Kong, China\n",
      "Liechtenstein\n",
      "Macedonia, FYR\n",
      "Taiwan\n"
     ]
    }
   ],
   "source": [
    "# geo.loc['Argentina','four_regions']\n",
    "paises_pbi = pbi.index.tolist()\n",
    "paises_geo = geo.index.tolist()\n",
    "r = set(paises_pbi) & set(paises_geo)\n",
    "for i in paises_geo:\n",
    "    if i not in paises_pbi:\n",
    "        print(i)"
   ]
  },
  {
   "cell_type": "code",
   "execution_count": 16,
   "metadata": {
    "pycharm": {
     "is_executing": true
    }
   },
   "outputs": [],
   "source": [
    "def agregar_region(df):\n",
    "    rr = geo['four_regions'].to_frame()\n",
    "    pbi2 = pbi.combine_first(rr)\n",
    "    pbi2 = pbi2.rename(columns={'four_regions':'region'})\n",
    "    return pbi2\n",
    "pbi2 = agregar_region(pbi)"
   ]
  },
  {
   "cell_type": "code",
   "execution_count": 24,
   "metadata": {
    "pycharm": {
     "is_executing": true
    }
   },
   "outputs": [
    {
     "data": {
      "text/plain": [
       "['Qatar',\n",
       " 'United Arab Emirates',\n",
       " 'Brunei',\n",
       " 'Luxembourg',\n",
       " 'San Marino',\n",
       " 'Kuwait',\n",
       " 'Norway',\n",
       " 'Singapore',\n",
       " 'Switzerland',\n",
       " 'Monaco']"
      ]
     },
     "execution_count": 24,
     "metadata": {},
     "output_type": "execute_result"
    }
   ],
   "source": [
    "# 5\n",
    "richest = pbi.sort_values(by=['2000'], ascending=False).head(10)\n",
    "richest.index.tolist()"
   ]
  },
  {
   "cell_type": "code",
   "execution_count": 132,
   "metadata": {
    "pycharm": {
     "is_executing": true
    }
   },
   "outputs": [
    {
     "data": {
      "text/plain": [
       "[Text(0.5, 0, 'pais'), Text(0, 0.5, 'pbi')]"
      ]
     },
     "execution_count": 132,
     "metadata": {},
     "output_type": "execute_result"
    },
    {
     "data": {
      "image/png": "[encoded data removed]",
      "text/plain": [
       "<Figure size 432x288 with 1 Axes>"
      ]
     },
     "metadata": {
      "needs_background": "light"
     },
     "output_type": "display_data"
    }
   ],
   "source": [
    "# 6\n",
    "anio = 2010\n",
    "poorest = pbi2.sort_values(by=['{}'.format(anio)]).head(10)\n",
    "poorest2000 = poorest['{}'.format(anio)]\n",
    "\n",
    "mas_pobres = poorest2000.index.tolist()\n",
    "mas_ricos = richest2000.index.tolist()\n",
    "\n",
    "extremos = mas_pobres + mas_ricos\n",
    "df_extremos = pbi2[pbi2.index.isin(extremos)]\n",
    "df_extremos = df_extremos.sort_values(by=['{}'.format(anio)])\n",
    "\n",
    "# a graficar\n",
    "plt.xticks(rotation=90)\n",
    "charter = sns.barplot(data=df_extremos,x = df_extremos.index,y = df_extremos['{}'.format(anio)],hue = 'region')\n",
    "charter.set_yscale(\"log\")\n",
    "charter.set_title('Extremos de riqueza y pobreza por pais en el año {}'.format(anio))\n",
    "charter.set(xlabel='pais', ylabel='pbi')"
   ]
  },
  {
   "cell_type": "code",
   "execution_count": 156,
   "metadata": {},
   "outputs": [],
   "source": [
    "# 7\n",
    "def seleccionar_extremos(df, n, anio):\n",
    "    richest = df.sort_values(by=['{}'.format(anio)], ascending=False).head(n)\n",
    "    poorest = df.sort_values(by=['{}'.format(anio)]).head(n)\n",
    "    richest_anio = richest['{}'.format(anio)]\n",
    "    poorest_anio = poorest['{}'.format(anio)]\n",
    "\n",
    "    mas_pobres = poorest_anio.index.tolist()\n",
    "    mas_ricos = richest_anio.index.tolist()\n",
    "    extremos = mas_pobres + mas_ricos\n",
    "    \n",
    "    df_extremos = df[df.index.isin(extremos)]\n",
    "    df_extremos = df_extremos.sort_values(by=['{}'.format(anio)])\n",
    "    return df_extremos"
   ]
  },
  {
   "cell_type": "code",
   "execution_count": 174,
   "metadata": {},
   "outputs": [
    {
     "data": {
      "text/plain": [
       "<AxesSubplot:xlabel='2000'>"
      ]
     },
     "execution_count": 174,
     "metadata": {},
     "output_type": "execute_result"
    },
    {
     "data": {
      "image/png": "[encoded data removed]",
      "text/plain": [
       "<Figure size 432x288 with 1 Axes>"
      ]
     },
     "metadata": {
      "needs_background": "light"
     },
     "output_type": "display_data"
    }
   ],
   "source": [
    "anio = '2000'\n",
    "extr2 = seleccionar_extremos(df=pbi2, n=10, anio=anio)\n",
    "promedio_pbi = extr2[anio].values.mean()\n",
    "promedio_pbi\n",
    "plt.axvline(promedio_pbi,)\n",
    "sns.distplot(extr2[anio])\n",
    "# parece bimodal con el promedio equidistante de ambos picos"
   ]
  }
 ],
 "metadata": {
  "kernelspec": {
   "display_name": "Python 3",
   "language": "python",
   "name": "python3"
  },
  "language_info": {
   "codemirror_mode": {
    "name": "ipython",
    "version": 3
   },
   "file_extension": ".py",
   "mimetype": "text/x-python",
   "name": "python",
   "nbconvert_exporter": "python",
   "pygments_lexer": "ipython3",
   "version": "3.8.2"
  }
 },
 "nbformat": 4,
 "nbformat_minor": 1
}
